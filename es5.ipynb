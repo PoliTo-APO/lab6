{
 "cells": [
  {
   "cell_type": "code",
   "execution_count": null,
   "id": "0287375b",
   "metadata": {},
   "outputs": [],
   "source": [
    "# funzioni di supporto\n",
    "import matplotlib.pyplot as plt\n",
    "import numpy as np\n",
    "import time\n",
    "import copy\n",
    "from IPython.display import clear_output\n",
    "\n",
    "# cell types\n",
    "class CellType:\n",
    "    EMPTY = \"E\"\n",
    "    WALL = \"W\"\n",
    "    PATH = \"P\"\n",
    "\n",
    "    \n",
    "# tipo celle -> colori\n",
    "color_conversion = {\n",
    "    \"W\": (0, 0, 0),\n",
    "    \"E\": (255, 255, 255),\n",
    "    \"P\": (255, 0, 0)\n",
    "}\n",
    "\n",
    "\n",
    "# funzione per caricare labirinto da file\n",
    "def load_labyrinth(fname):\n",
    "    lab = []\n",
    "    with open(fname, \"r\") as f:\n",
    "        for row in f:\n",
    "            if row:\n",
    "                lab.append([cell for cell in row.strip()])\n",
    "    return lab\n",
    "\n",
    "\n",
    "# funzione per stampare matrice labirinto\n",
    "def print_lab(lab):\n",
    "    for row in lab:\n",
    "        for cell in row:\n",
    "            print(cell, end=\"\")\n",
    "        print()        \n",
    "\n",
    "\n",
    "# funzione per visualizzare labirinto\n",
    "def plot_lab(lab, overwrite=False, wait=False):\n",
    "    image = []\n",
    "    for row in lab:\n",
    "        image_row = []\n",
    "        for cell in row:\n",
    "            image_row.append(color_conversion[cell])\n",
    "        image.append(image_row)\n",
    "    if overwrite:\n",
    "        clear_output()\n",
    "    plt.axis('off')\n",
    "    plt.imshow(image)\n",
    "    plt.show()\n",
    "    if wait:\n",
    "        input()\n",
    "\n",
    "# funzione per salvare labirinto\n",
    "def save_lab(lab, fname):\n",
    "    with open(fname, \"w\") as f:\n",
    "        for row in lab:\n",
    "            for cell in row:\n",
    "                f.write(cell)\n",
    "            f.write(\"\\n\")"
   ]
  },
  {
   "cell_type": "code",
   "execution_count": null,
   "id": "49ff88a7",
   "metadata": {},
   "outputs": [],
   "source": [
    "# configurare limite ricorsione se necessario\n",
    "import sys\n",
    "print(sys.getrecursionlimit())\n",
    "# sys.setrecursionlimit(1500)"
   ]
  },
  {
   "cell_type": "code",
   "execution_count": null,
   "id": "e16c2716",
   "metadata": {},
   "outputs": [],
   "source": [
    "# leggo labirinto da file e stampo matrice\n",
    "lab = load_labyrinth(\"./data/lab1.txt\")\n",
    "print_lab(lab)"
   ]
  },
  {
   "cell_type": "code",
   "execution_count": null,
   "id": "8d0342c7",
   "metadata": {},
   "outputs": [],
   "source": [
    "# visualizzo labirinto\n",
    "plot_lab(lab)"
   ]
  },
  {
   "cell_type": "code",
   "execution_count": null,
   "id": "1e53d0c2",
   "metadata": {},
   "outputs": [],
   "source": [
    "# visualizzazioni multiple\n",
    "plot_lab(lab)\n",
    "lab_test = copy.deepcopy(lab)\n",
    "for i in range(3):\n",
    "    lab_test[i][i] = CellType.PATH\n",
    "    plot_lab(lab_test)"
   ]
  },
  {
   "cell_type": "code",
   "execution_count": null,
   "id": "65f370c0",
   "metadata": {},
   "outputs": [],
   "source": [
    "# visualizzazioni multiple con attesa (premere invio) e sovrascrittura\n",
    "plot_lab(lab, wait=True)\n",
    "lab_test = copy.deepcopy(lab)\n",
    "for i in range(3):\n",
    "    lab_test[i][i] = CellType.PATH\n",
    "    plot_lab(lab_test, overwrite=True, wait=True)"
   ]
  },
  {
   "cell_type": "code",
   "execution_count": null,
   "id": "7c7a32ce",
   "metadata": {},
   "outputs": [],
   "source": [
    "lab = load_labyrinth(\"./data/lab1.txt\")\n",
    "plot_lab(lab)\n",
    "# TODO"
   ]
  },
  {
   "cell_type": "code",
   "execution_count": null,
   "id": "b0a832b0",
   "metadata": {},
   "outputs": [],
   "source": []
  },
  {
   "cell_type": "code",
   "execution_count": null,
   "id": "e1972b86",
   "metadata": {},
   "outputs": [],
   "source": []
  },
  {
   "cell_type": "code",
   "execution_count": null,
   "id": "0ac2ccc0",
   "metadata": {},
   "outputs": [],
   "source": []
  },
  {
   "cell_type": "code",
   "execution_count": null,
   "id": "284d4e5c",
   "metadata": {},
   "outputs": [],
   "source": []
  }
 ],
 "metadata": {
  "kernelspec": {
   "display_name": "Python 3 (ipykernel)",
   "language": "python",
   "name": "python3"
  },
  "language_info": {
   "codemirror_mode": {
    "name": "ipython",
    "version": 3
   },
   "file_extension": ".py",
   "mimetype": "text/x-python",
   "name": "python",
   "nbconvert_exporter": "python",
   "pygments_lexer": "ipython3",
   "version": "3.10.6"
  }
 },
 "nbformat": 4,
 "nbformat_minor": 5
}
